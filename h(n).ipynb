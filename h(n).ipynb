{
  "nbformat": 4,
  "nbformat_minor": 0,
  "metadata": {
    "colab": {
      "name": "h(n).ipynb",
      "provenance": [],
      "authorship_tag": "ABX9TyOCHNYrq2tHbQY2aLOZ+XXB",
      "include_colab_link": true
    },
    "kernelspec": {
      "name": "python3",
      "display_name": "Python 3"
    },
    "language_info": {
      "name": "python"
    }
  },
  "cells": [
    {
      "cell_type": "markdown",
      "metadata": {
        "id": "view-in-github",
        "colab_type": "text"
      },
      "source": [
        "<a href=\"https://colab.research.google.com/github/madisonchamberlain/AI_notes/blob/main/h(n).ipynb\" target=\"_parent\"><img src=\"https://colab.research.google.com/assets/colab-badge.svg\" alt=\"Open In Colab\"/></a>"
      ]
    },
    {
      "cell_type": "code",
      "metadata": {
        "id": "5OQuj5H77ww5"
      },
      "source": [
        "def NumOutOfPlace(state, goal):\n",
        "  out_of_place = 0\n",
        "  for i in len(state):\n",
        "    row = state[i]\n",
        "    for j in len(row):\n",
        "      # find all occurances where the state is not equal to the goal state\n",
        "      if state[i][j] != goal[i][j]:\n",
        "        out_of_place = out_of_place + 1\n",
        "    return out_of_place\n",
        "\n",
        "def FindManhattanDiatance(itemLoc, itemGoalLoc):  \n",
        "  # paramaters should be an array of coordinates\n",
        "  return abs(itemLoc[0] - itemGoalLoc[0]) + abs(itemLoc[1] - itemGoalLoc[1])\n",
        "\n",
        "def GetMD(state, goal):\n",
        "  manhattan_dist = 0\n",
        "  for i in len(state):\n",
        "    row = state[i]\n",
        "    for j in len(row):\n",
        "      itemLoc = [i,j]\n",
        "      itemGoalLoc = [i,j]\n",
        "      for k in len(goal):\n",
        "        goal_row = goal[i]\n",
        "        for l in len(goal_row):\n",
        "          if state[i][j] == goal[k][l]:\n",
        "            itemGoalLoc[0] = k\n",
        "            itemGoalLoc[1] = l\n",
        "      manhattan_dist = manhattan_dist + FindManhattanDiatance(itemLoc, itemGoalLoc)\n",
        "      return manhattan_dist\n"
      ],
      "execution_count": null,
      "outputs": []
    }
  ]
}